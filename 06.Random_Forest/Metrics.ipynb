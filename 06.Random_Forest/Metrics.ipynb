{
  "nbformat": 4,
  "nbformat_minor": 0,
  "metadata": {
    "colab": {
      "provenance": []
    },
    "kernelspec": {
      "name": "python3",
      "display_name": "Python 3"
    },
    "language_info": {
      "name": "python"
    }
  },
  "cells": [
    {
      "cell_type": "code",
      "source": [
        "import matplotlib.pyplot as plt\n",
        "from sklearn.metrics import confusion_matrix, roc_curve, roc_auc_score"
      ],
      "metadata": {
        "id": "QXz90RgJfb-W"
      },
      "execution_count": null,
      "outputs": []
    },
    {
      "cell_type": "code",
      "execution_count": null,
      "metadata": {
        "id": "T_zu9Au-fRNu"
      },
      "outputs": [],
      "source": [
        "def metrics(y_test, y_pred):\n",
        "  conf_matrix = confusion_matrix(y_test, y_pred)\n",
        "\n",
        "  TN = conf_matrix[0, 0]\n",
        "  FP = conf_matrix[0, 1]\n",
        "  FN = conf_matrix[1, 0]\n",
        "  TP = conf_matrix[1, 1]\n",
        "\n",
        "  sensitivity = TP / (TP + FN)\n",
        "  specificity = TN / (TN + FP)\n",
        "\n",
        "  return conf_matrix, sensitivity, specificity"
      ]
    },
    {
      "cell_type": "code",
      "source": [
        "def plot_ROC(X_test, y_test, model_1, model_2):\n",
        "    y_scores_anl = model_1.predict(X_test)\n",
        "    fpr_anl, tpr_anl, _ = roc_curve(y_test, y_scores_anl)\n",
        "    roc_auc_anl = roc_auc_score(y_test, y_scores_anl)\n",
        "\n",
        "    y_scores_sklearn = model_2.predict(X_test)\n",
        "    fpr_sklearn, tpr_sklearn, _ = roc_curve(y_test, y_scores_sklearn)\n",
        "    roc_auc_sklearn = roc_auc_score(y_test, y_scores_sklearn)\n",
        "\n",
        "    plt.figure(figsize=(15, 6))\n",
        "\n",
        "    plt.subplot(1, 2, 1)\n",
        "    plt.plot(fpr_anl, tpr_anl, color='blue', lw=2, label='ROC curve (area = %0.2f)' % roc_auc_anl)\n",
        "    plt.plot([0, 1], [0, 1], color='red', lw=2, linestyle='--')\n",
        "    plt.xlim([0.0, 1.0])\n",
        "    plt.ylim([0.0, 1.05])\n",
        "    plt.xlabel('False Positive Rate')\n",
        "    plt.ylabel('True Positive Rate')\n",
        "    plt.title('ROC curve (custom)')\n",
        "    plt.legend(loc=\"lower right\")\n",
        "\n",
        "    plt.subplot(1, 2, 2)\n",
        "    plt.plot(fpr_sklearn, tpr_sklearn, color='blue', lw=2, label='ROC curve (area = %0.2f)' % roc_auc_sklearn)\n",
        "    plt.plot([0, 1], [0, 1], color='red', lw=2, linestyle='--')\n",
        "    plt.xlim([0.0, 1.0])\n",
        "    plt.ylim([0.0, 1.05])\n",
        "    plt.xlabel('False Positive Rate')\n",
        "    plt.ylabel('True Positive Rate')\n",
        "    plt.title('ROC curve (sklearn)')\n",
        "    plt.legend(loc=\"lower right\")\n",
        "\n",
        "    plt.tight_layout()\n",
        "    plt.show()"
      ],
      "metadata": {
        "id": "rHJjsN-bfYIR"
      },
      "execution_count": null,
      "outputs": []
    }
  ]
}